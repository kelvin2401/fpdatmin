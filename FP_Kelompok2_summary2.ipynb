{
  "cells": [
    {
      "cell_type": "code",
      "execution_count": null,
      "metadata": {
        "id": "AT9pEkFibk1M"
      },
      "outputs": [],
      "source": [
        "import pandas as pd\n",
        "import numpy as np\n",
        "import matplotlib.pyplot as plt\n",
        "import seaborn as sns\n",
        "from sklearn.feature_extraction.text import CountVectorizer\n",
        "from sklearn.feature_extraction.text import TfidfVectorizer\n",
        "from sklearn.model_selection import train_test_split"
      ]
    },
    {
      "cell_type": "code",
      "execution_count": null,
      "metadata": {
        "id": "SZByj9ql_UoR"
      },
      "outputs": [],
      "source": [
        "df = pd.read_csv('https://raw.githubusercontent.com/kelvin2401/fpdatmin/main/Reviews2.csv')"
      ]
    },
    {
      "cell_type": "code",
      "execution_count": null,
      "metadata": {
        "colab": {
          "base_uri": "https://localhost:8080/"
        },
        "id": "yWoJg1QLABfp",
        "outputId": "7822ffe5-6512-4f71-f0ce-3955744870a9"
      },
      "outputs": [
        {
          "data": {
            "text/plain": [
              "Score       int64\n",
              "Summary    object\n",
              "dtype: object"
            ]
          },
          "execution_count": 3,
          "metadata": {},
          "output_type": "execute_result"
        }
      ],
      "source": [
        "df.dtypes"
      ]
    },
    {
      "cell_type": "code",
      "execution_count": null,
      "metadata": {
        "colab": {
          "base_uri": "https://localhost:8080/",
          "height": 497
        },
        "id": "yyechXaLhmV1",
        "outputId": "259c1a32-2845-415d-d284-543026ff96c7"
      },
      "outputs": [
        {
          "data": {
            "image/png": "[encoded data removed]",
            "text/plain": [
              "<Figure size 1080x576 with 1 Axes>"
            ]
          },
          "metadata": {},
          "output_type": "display_data"
        }
      ],
      "source": [
        "plt.figure(figsize=(15, 8))\n",
        "sns.countplot(x=df['Score'], edgecolor='black', saturation=0.55)\n",
        "plt.show()"
      ]
    },
    {
      "cell_type": "code",
      "execution_count": null,
      "metadata": {
        "colab": {
          "base_uri": "https://localhost:8080/"
        },
        "id": "6fiJ6hYotRYh",
        "outputId": "e98984fd-34d7-4cbb-aade-6503f69d2b72"
      },
      "outputs": [
        {
          "data": {
            "text/plain": [
              "Score       0\n",
              "Summary    27\n",
              "dtype: int64"
            ]
          },
          "execution_count": 5,
          "metadata": {},
          "output_type": "execute_result"
        }
      ],
      "source": [
        "df.isnull().sum()"
      ]
    },
    {
      "cell_type": "code",
      "execution_count": null,
      "metadata": {
        "id": "vyT80puStZVX"
      },
      "outputs": [],
      "source": [
        "df = df.dropna()"
      ]
    },
    {
      "cell_type": "code",
      "execution_count": null,
      "metadata": {
        "id": "Dl19Z1Cqsbwv"
      },
      "outputs": [],
      "source": [
        "df = df.sample(n=10000)"
      ]
    },
    {
      "cell_type": "code",
      "execution_count": null,
      "metadata": {
        "id": "STq9NziPFqqA"
      },
      "outputs": [],
      "source": [
        "df['Summary'] = df['Summary'].astype(str)"
      ]
    },
    {
      "cell_type": "code",
      "execution_count": null,
      "metadata": {
        "id": "caCxCyplD2a4"
      },
      "outputs": [],
      "source": [
        "import nltk\n",
        "from nltk.stem import PorterStemmer\n",
        "from nltk.tokenize import sent_tokenize, word_tokenize\n",
        "import re\n",
        "import string\n",
        "def text_cleaning(text):\n",
        "    '''\n",
        "    Make text lowercase, remove text in square brackets,remove links,remove special characters\n",
        "    and remove words containing numbers.\n",
        "    '''\n",
        "    text = text.lower()\n",
        "    text = re.sub('\\[.*?\\]', '', text)\n",
        "    text = re.sub(\"\\\\W\",\" \",text) # remove special chars\n",
        "    text = re.sub('https?://\\S+|www\\.\\S+', '', text)\n",
        "    text = re.sub('<.*?>+', '', text)\n",
        "    text = re.sub('[%s]' % re.escape(string.punctuation), '', text)\n",
        "    text = re.sub('\\n', '', text)\n",
        "    text = re.sub('\\w*\\d\\w*', '', text)\n",
        "    \n",
        "    return text"
      ]
    },
    {
      "cell_type": "code",
      "execution_count": null,
      "metadata": {
        "id": "YFrMhsLND5cy"
      },
      "outputs": [],
      "source": [
        "df['Summary']=df['Summary'].apply(text_cleaning)"
      ]
    },
    {
      "cell_type": "code",
      "execution_count": null,
      "metadata": {
        "colab": {
          "base_uri": "https://localhost:8080/",
          "height": 424
        },
        "id": "9jUqKJD-D8cK",
        "outputId": "4dc40feb-15b2-4749-bc62-6534729d5ac5"
      },
      "outputs": [
        {
          "data": {
            "text/html": [
              "\n",
              "  <div id=\"df-75f7c6d0-9aaf-41f8-aa9f-050cb5f80391\">\n",
              "    <div class=\"colab-df-container\">\n",
              "      <div>\n",
              "<style scoped>\n",
              "    .dataframe tbody tr th:only-of-type {\n",
              "        vertical-align: middle;\n",
              "    }\n",
              "\n",
              "    .dataframe tbody tr th {\n",
              "        vertical-align: top;\n",
              "    }\n",
              "\n",
              "    .dataframe thead th {\n",
              "        text-align: right;\n",
              "    }\n",
              "</style>\n",
              "<table border=\"1\" class=\"dataframe\">\n",
              "  <thead>\n",
              "    <tr style=\"text-align: right;\">\n",
              "      <th></th>\n",
              "      <th>Score</th>\n",
              "      <th>Summary</th>\n",
              "    </tr>\n",
              "  </thead>\n",
              "  <tbody>\n",
              "    <tr>\n",
              "      <th>336262</th>\n",
              "      <td>4</td>\n",
              "      <td>great for training</td>\n",
              "    </tr>\n",
              "    <tr>\n",
              "      <th>463431</th>\n",
              "      <td>5</td>\n",
              "      <td>coffee deliscioso</td>\n",
              "    </tr>\n",
              "    <tr>\n",
              "      <th>348451</th>\n",
              "      <td>2</td>\n",
              "      <td>stale stale stale</td>\n",
              "    </tr>\n",
              "    <tr>\n",
              "      <th>128603</th>\n",
              "      <td>5</td>\n",
              "      <td>top notch matcha</td>\n",
              "    </tr>\n",
              "    <tr>\n",
              "      <th>174624</th>\n",
              "      <td>5</td>\n",
              "      <td>delicious chip</td>\n",
              "    </tr>\n",
              "    <tr>\n",
              "      <th>...</th>\n",
              "      <td>...</td>\n",
              "      <td>...</td>\n",
              "    </tr>\n",
              "    <tr>\n",
              "      <th>344864</th>\n",
              "      <td>1</td>\n",
              "      <td>disgust in a can</td>\n",
              "    </tr>\n",
              "    <tr>\n",
              "      <th>442165</th>\n",
              "      <td>5</td>\n",
              "      <td>best organic sandwich cookie</td>\n",
              "    </tr>\n",
              "    <tr>\n",
              "      <th>268796</th>\n",
              "      <td>5</td>\n",
              "      <td>decadence made healthful</td>\n",
              "    </tr>\n",
              "    <tr>\n",
              "      <th>322184</th>\n",
              "      <td>2</td>\n",
              "      <td>not everlasting</td>\n",
              "    </tr>\n",
              "    <tr>\n",
              "      <th>540138</th>\n",
              "      <td>5</td>\n",
              "      <td>god of all fake sugar</td>\n",
              "    </tr>\n",
              "  </tbody>\n",
              "</table>\n",
              "<p>10000 rows × 2 columns</p>\n",
              "</div>\n",
              "      <button class=\"colab-df-convert\" onclick=\"convertToInteractive('df-75f7c6d0-9aaf-41f8-aa9f-050cb5f80391')\"\n",
              "              title=\"Convert this dataframe to an interactive table.\"\n",
              "              style=\"display:none;\">\n",
              "        \n",
              "  <svg xmlns=\"http://www.w3.org/2000/svg\" height=\"24px\"viewBox=\"0 0 24 24\"\n",
              "       width=\"24px\">\n",
              "    <path d=\"M0 0h24v24H0V0z\" fill=\"none\"/>\n",
              "    <path d=\"M18.56 5.44l.94 2.06.94-2.06 2.06-.94-2.06-.94-.94-2.06-.94 2.06-2.06.94zm-11 1L8.5 8.5l.94-2.06 2.06-.94-2.06-.94L8.5 2.5l-.94 2.06-2.06.94zm10 10l.94 2.06.94-2.06 2.06-.94-2.06-.94-.94-2.06-.94 2.06-2.06.94z\"/><path d=\"M17.41 7.96l-1.37-1.37c-.4-.4-.92-.59-1.43-.59-.52 0-1.04.2-1.43.59L10.3 9.45l-7.72 7.72c-.78.78-.78 2.05 0 2.83L4 21.41c.39.39.9.59 1.41.59.51 0 1.02-.2 1.41-.59l7.78-7.78 2.81-2.81c.8-.78.8-2.07 0-2.86zM5.41 20L4 18.59l7.72-7.72 1.47 1.35L5.41 20z\"/>\n",
              "  </svg>\n",
              "      </button>\n",
              "      \n",
              "  <style>\n",
              "    .colab-df-container {\n",
              "      display:flex;\n",
              "      flex-wrap:wrap;\n",
              "      gap: 12px;\n",
              "    }\n",
              "\n",
              "    .colab-df-convert {\n",
              "      background-color: #E8F0FE;\n",
              "      border: none;\n",
              "      border-radius: 50%;\n",
              "      cursor: pointer;\n",
              "      display: none;\n",
              "      fill: #1967D2;\n",
              "      height: 32px;\n",
              "      padding: 0 0 0 0;\n",
              "      width: 32px;\n",
              "    }\n",
              "\n",
              "    .colab-df-convert:hover {\n",
              "      background-color: #E2EBFA;\n",
              "      box-shadow: 0px 1px 2px rgba(60, 64, 67, 0.3), 0px 1px 3px 1px rgba(60, 64, 67, 0.15);\n",
              "      fill: #174EA6;\n",
              "    }\n",
              "\n",
              "    [theme=dark] .colab-df-convert {\n",
              "      background-color: #3B4455;\n",
              "      fill: #D2E3FC;\n",
              "    }\n",
              "\n",
              "    [theme=dark] .colab-df-convert:hover {\n",
              "      background-color: #434B5C;\n",
              "      box-shadow: 0px 1px 3px 1px rgba(0, 0, 0, 0.15);\n",
              "      filter: drop-shadow(0px 1px 2px rgba(0, 0, 0, 0.3));\n",
              "      fill: #FFFFFF;\n",
              "    }\n",
              "  </style>\n",
              "\n",
              "      <script>\n",
              "        const buttonEl =\n",
              "          document.querySelector('#df-75f7c6d0-9aaf-41f8-aa9f-050cb5f80391 button.colab-df-convert');\n",
              "        buttonEl.style.display =\n",
              "          google.colab.kernel.accessAllowed ? 'block' : 'none';\n",
              "\n",
              "        async function convertToInteractive(key) {\n",
              "          const element = document.querySelector('#df-75f7c6d0-9aaf-41f8-aa9f-050cb5f80391');\n",
              "          const dataTable =\n",
              "            await google.colab.kernel.invokeFunction('convertToInteractive',\n",
              "                                                     [key], {});\n",
              "          if (!dataTable) return;\n",
              "\n",
              "          const docLinkHtml = 'Like what you see? Visit the ' +\n",
              "            '<a target=\"_blank\" href=https://colab.research.google.com/notebooks/data_table.ipynb>data table notebook</a>'\n",
              "            + ' to learn more about interactive tables.';\n",
              "          element.innerHTML = '';\n",
              "          dataTable['output_type'] = 'display_data';\n",
              "          await google.colab.output.renderOutput(dataTable, element);\n",
              "          const docLink = document.createElement('div');\n",
              "          docLink.innerHTML = docLinkHtml;\n",
              "          element.appendChild(docLink);\n",
              "        }\n",
              "      </script>\n",
              "    </div>\n",
              "  </div>\n",
              "  "
            ],
            "text/plain": [
              "        Score                        Summary\n",
              "336262      4             great for training\n",
              "463431      5              coffee deliscioso\n",
              "348451      2            stale stale stale  \n",
              "128603      5               top notch matcha\n",
              "174624      5                delicious chip \n",
              "...       ...                            ...\n",
              "344864      1               disgust in a can\n",
              "442165      5  best organic sandwich cookie \n",
              "268796      5       decadence made healthful\n",
              "322184      2                not everlasting\n",
              "540138      5         god of all fake sugar \n",
              "\n",
              "[10000 rows x 2 columns]"
            ]
          },
          "execution_count": 11,
          "metadata": {},
          "output_type": "execute_result"
        }
      ],
      "source": [
        "df"
      ]
    },
    {
      "cell_type": "code",
      "execution_count": null,
      "metadata": {
        "id": "zE3wAs6OF3Uj"
      },
      "outputs": [],
      "source": [
        "y=df['Score']\n",
        "x=df['Summary']"
      ]
    },
    {
      "cell_type": "code",
      "execution_count": null,
      "metadata": {
        "id": "zcx_0d0JF-hn"
      },
      "outputs": [],
      "source": [
        "from sklearn.model_selection import train_test_split\n",
        "x_train,x_test,y_train,y_test=train_test_split(x,y,random_state=0,test_size=0.2)"
      ]
    },
    {
      "cell_type": "code",
      "execution_count": null,
      "metadata": {
        "id": "-33xdmNHGC1l"
      },
      "outputs": [],
      "source": [
        "from sklearn.linear_model import LogisticRegression\n",
        "from sklearn.feature_extraction.text import CountVectorizer\n",
        "from sklearn.feature_extraction.text import TfidfTransformer\n",
        "count_vect = CountVectorizer(ngram_range=(1,2),stop_words='english')\n",
        "X_train_counts = count_vect.fit_transform(x_train) \n",
        "tfidf_transformer = TfidfTransformer()\n",
        "X_train_tfidf = tfidf_transformer.fit_transform(X_train_counts)\n",
        "X_new_counts = count_vect.transform(x_test)\n",
        "X_test_tfidf = tfidf_transformer.transform(X_new_counts)\n",
        "lr=LogisticRegression(max_iter=100000)"
      ]
    },
    {
      "cell_type": "code",
      "execution_count": null,
      "metadata": {
        "id": "E9VjKhwPGE16"
      },
      "outputs": [],
      "source": [
        "from sklearn.metrics import accuracy_score\n",
        "lr.fit(X_train_tfidf,y_train)\n",
        "pred_1=lr.predict(X_test_tfidf)"
      ]
    },
    {
      "cell_type": "code",
      "execution_count": null,
      "metadata": {
        "id": "pIU8OuBcGHMf"
      },
      "outputs": [],
      "source": [
        "import itertools\n",
        "def plot_confusion_matrix(cm, classes,\n",
        "                          normalize=False,\n",
        "                          title='Confusion matrix',\n",
        "                          cmap=plt.cm.Blues):\n",
        "    \"\"\"\n",
        "    This function prints and plots the confusion matrix.\n",
        "    Normalization can be applied by setting `normalize=True`.\n",
        "    \"\"\"\n",
        "    if normalize:\n",
        "        cm = cm.astype('float') / cm.sum(axis=1)[:, np.newaxis]\n",
        "        print(\"Normalized confusion matrix\")\n",
        "    else:\n",
        "        print('Confusion matrix, without normalization')\n",
        "\n",
        "    print(cm)\n",
        "\n",
        "    plt.imshow(cm, interpolation='nearest', cmap=cmap)\n",
        "    plt.title(title)\n",
        "    plt.colorbar()\n",
        "    tick_marks = np.arange(len(classes))\n",
        "    plt.xticks(tick_marks, classes, rotation=45)\n",
        "    plt.yticks(tick_marks, classes)\n",
        "\n",
        "    fmt = '.2f' if normalize else 'd'\n",
        "    thresh = cm.max() / 2.\n",
        "    for i, j in itertools.product(range(cm.shape[0]), range(cm.shape[1])):\n",
        "        plt.text(j, i, format(cm[i, j], fmt),\n",
        "                 horizontalalignment=\"center\",\n",
        "                 color=\"white\" if cm[i, j] > thresh else \"black\")\n",
        "\n",
        "    plt.tight_layout()\n",
        "    plt.ylabel('True label')\n",
        "    plt.xlabel('Predicted label')"
      ]
    },
    {
      "cell_type": "code",
      "execution_count": null,
      "metadata": {
        "colab": {
          "base_uri": "https://localhost:8080/",
          "height": 639
        },
        "id": "Vx6nV-9veUmJ",
        "outputId": "bd602a60-fc02-4060-8ca0-6d04349c8b42"
      },
      "outputs": [
        {
          "name": "stdout",
          "output_type": "stream",
          "text": [
            "              precision    recall  f1-score   support\n",
            "\n",
            "           1       0.67      0.27      0.39       166\n",
            "           2       0.14      0.01      0.02       102\n",
            "           3       0.55      0.12      0.20       138\n",
            "           4       0.40      0.09      0.15       277\n",
            "           5       0.70      0.98      0.82      1317\n",
            "\n",
            "    accuracy                           0.69      2000\n",
            "   macro avg       0.49      0.30      0.32      2000\n",
            "weighted avg       0.62      0.69      0.61      2000\n",
            "\n",
            "Confusion matrix, without normalization\n",
            "[[  45    5    1    2  113]\n",
            " [  15    1    4    3   79]\n",
            " [   3    1   17    7  110]\n",
            " [   3    0    7   26  241]\n",
            " [   1    0    2   27 1287]]\n"
          ]
        },
        {
          "data": {
            "image/png": "[encoded data removed]",
            "text/plain": [
              "<Figure size 432x288 with 2 Axes>"
            ]
          },
          "metadata": {},
          "output_type": "display_data"
        }
      ],
      "source": [
        "from sklearn.metrics import classification_report, confusion_matrix\n",
        "# Compute confusion matrix\n",
        "cnf_matrix = confusion_matrix(y_test, pred_1, labels=[1,2,3,4,5])\n",
        "np.set_printoptions(precision=2)\n",
        "\n",
        "print (classification_report(y_test, pred_1))\n",
        "\n",
        "# Plot non-normalized confusion matrix\n",
        "plt.figure()\n",
        "plot_confusion_matrix(cnf_matrix, classes=['1','2','3','4','5'],normalize= False,  title='Confusion matrix')"
      ]
    },
    {
      "cell_type": "code",
      "execution_count": null,
      "metadata": {
        "id": "G1RQRtk4gtwH"
      },
      "outputs": [],
      "source": [
        "from sklearn.naive_bayes import MultinomialNB\n",
        "naive_bayes = MultinomialNB()\n",
        "naive_bayes.fit(X_train_tfidf , y_train)\n",
        " \n",
        "#Predict on test data\n",
        "pred_mulnb = naive_bayes.predict(X_test_tfidf)"
      ]
    },
    {
      "cell_type": "code",
      "execution_count": null,
      "metadata": {
        "colab": {
          "base_uri": "https://localhost:8080/",
          "height": 639
        },
        "id": "zPAl3llimzRk",
        "outputId": "39f97d34-a30f-454d-b763-8913cfaaccd7"
      },
      "outputs": [
        {
          "name": "stdout",
          "output_type": "stream",
          "text": [
            "              precision    recall  f1-score   support\n",
            "\n",
            "           1       0.68      0.08      0.14       166\n",
            "           2       0.00      0.00      0.00       102\n",
            "           3       0.71      0.04      0.07       138\n",
            "           4       0.45      0.02      0.03       277\n",
            "           5       0.67      1.00      0.80      1317\n",
            "\n",
            "    accuracy                           0.67      2000\n",
            "   macro avg       0.50      0.23      0.21      2000\n",
            "weighted avg       0.61      0.67      0.55      2000\n",
            "\n",
            "Confusion matrix, without normalization\n",
            "[[  13    1    0    0  152]\n",
            " [   4    0    1    0   97]\n",
            " [   1    0    5    2  130]\n",
            " [   1    0    1    5  270]\n",
            " [   0    0    0    4 1313]]\n"
          ]
        },
        {
          "data": {
            "image/png": "[encoded data removed]",
            "text/plain": [
              "<Figure size 432x288 with 2 Axes>"
            ]
          },
          "metadata": {},
          "output_type": "display_data"
        }
      ],
      "source": [
        "# Compute confusion matrix\n",
        "cnf_matrix = confusion_matrix(y_test, pred_mulnb, labels=[1,2,3,4,5])\n",
        "np.set_printoptions(precision=2)\n",
        "\n",
        "print (classification_report(y_test, pred_mulnb))\n",
        "\n",
        "# Plot non-normalized confusion matrix\n",
        "plt.figure()\n",
        "plot_confusion_matrix(cnf_matrix, classes=['1','2','3','4','5'],normalize= False,  title='Confusion matrix')"
      ]
    },
    {
      "cell_type": "code",
      "execution_count": null,
      "metadata": {
        "id": "hYCUF1dUoK-H"
      },
      "outputs": [],
      "source": [
        "from sklearn.naive_bayes import BernoulliNB\n",
        "naive_bayes_bernoulli = BernoulliNB()\n",
        "naive_bayes_bernoulli.fit(X_train_tfidf , y_train)\n",
        " \n",
        "#Predict on test data\n",
        "pred_bernb = naive_bayes_bernoulli.predict(X_test_tfidf)"
      ]
    },
    {
      "cell_type": "code",
      "execution_count": null,
      "metadata": {
        "colab": {
          "base_uri": "https://localhost:8080/",
          "height": 769
        },
        "id": "fFwxVfP1oNjz",
        "outputId": "df87901f-b94c-4fc6-b631-947c6895bfa4"
      },
      "outputs": [
        {
          "name": "stderr",
          "output_type": "stream",
          "text": [
            "/usr/local/lib/python3.7/dist-packages/sklearn/metrics/_classification.py:1318: UndefinedMetricWarning: Precision and F-score are ill-defined and being set to 0.0 in labels with no predicted samples. Use `zero_division` parameter to control this behavior.\n",
            "  _warn_prf(average, modifier, msg_start, len(result))\n",
            "/usr/local/lib/python3.7/dist-packages/sklearn/metrics/_classification.py:1318: UndefinedMetricWarning: Precision and F-score are ill-defined and being set to 0.0 in labels with no predicted samples. Use `zero_division` parameter to control this behavior.\n",
            "  _warn_prf(average, modifier, msg_start, len(result))\n",
            "/usr/local/lib/python3.7/dist-packages/sklearn/metrics/_classification.py:1318: UndefinedMetricWarning: Precision and F-score are ill-defined and being set to 0.0 in labels with no predicted samples. Use `zero_division` parameter to control this behavior.\n",
            "  _warn_prf(average, modifier, msg_start, len(result))\n"
          ]
        },
        {
          "name": "stdout",
          "output_type": "stream",
          "text": [
            "              precision    recall  f1-score   support\n",
            "\n",
            "           1       1.00      0.01      0.02       166\n",
            "           2       0.00      0.00      0.00       102\n",
            "           3       0.00      0.00      0.00       138\n",
            "           4       0.57      0.01      0.03       277\n",
            "           5       0.66      1.00      0.80      1317\n",
            "\n",
            "    accuracy                           0.66      2000\n",
            "   macro avg       0.45      0.21      0.17      2000\n",
            "weighted avg       0.60      0.66      0.53      2000\n",
            "\n",
            "Confusion matrix, without normalization\n",
            "[[   2    0    0    0  164]\n",
            " [   0    0    0    1  101]\n",
            " [   0    0    0    1  137]\n",
            " [   0    0    0    4  273]\n",
            " [   0    0    0    1 1316]]\n"
          ]
        },
        {
          "data": {
            "image/png": "[encoded data removed]",
            "text/plain": [
              "<Figure size 432x288 with 2 Axes>"
            ]
          },
          "metadata": {},
          "output_type": "display_data"
        }
      ],
      "source": [
        "# Compute confusion matrix\n",
        "cnf_matrix = confusion_matrix(y_test, pred_bernb, labels=[1,2,3,4,5])\n",
        "np.set_printoptions(precision=2)\n",
        "\n",
        "print (classification_report(y_test, pred_bernb))\n",
        "\n",
        "# Plot non-normalized confusion matrix\n",
        "plt.figure()\n",
        "plot_confusion_matrix(cnf_matrix, classes=['1','2','3','4','5'],normalize= False,  title='Confusion matrix')"
      ]
    },
    {
      "cell_type": "code",
      "execution_count": null,
      "metadata": {
        "id": "iPAjsAIuorg_"
      },
      "outputs": [],
      "source": [
        "from sklearn import svm\n",
        "from sklearn.svm import SVC\n",
        "clf = svm.SVC(kernel='rbf')\n",
        "clf.fit(X_train_tfidf, y_train) \n",
        "predSVM = clf.predict(X_test_tfidf)"
      ]
    },
    {
      "cell_type": "code",
      "execution_count": null,
      "metadata": {
        "colab": {
          "base_uri": "https://localhost:8080/"
        },
        "id": "YT08S79WpPY0",
        "outputId": "867e6e8c-3bcd-4421-8a4a-2e59f11180f9"
      },
      "outputs": [
        {
          "name": "stdout",
          "output_type": "stream",
          "text": [
            "              precision    recall  f1-score   support\n",
            "\n",
            "           1       0.74      0.29      0.42       166\n",
            "           2       0.11      0.01      0.02       102\n",
            "           3       0.51      0.14      0.22       138\n",
            "           4       0.44      0.09      0.15       277\n",
            "           5       0.70      0.98      0.82      1317\n",
            "\n",
            "    accuracy                           0.69      2000\n",
            "   macro avg       0.50      0.30      0.32      2000\n",
            "weighted avg       0.63      0.69      0.61      2000\n",
            "\n",
            "Confusion matrix, without normalization\n",
            "[[  48    5    3    2  108]\n",
            " [  11    1    6    2   82]\n",
            " [   2    2   19    4  111]\n",
            " [   3    0    6   26  242]\n",
            " [   1    1    3   25 1287]]\n"
          ]
        },
        {
          "data": {
            "image/png": "[encoded data removed]",
            "text/plain": [
              "<Figure size 432x288 with 2 Axes>"
            ]
          },
          "metadata": {},
          "output_type": "display_data"
        }
      ],
      "source": [
        "# Compute confusion matrix\n",
        "cnf_matrix = confusion_matrix(y_test, predSVM, labels=[1,2,3,4,5])\n",
        "np.set_printoptions(precision=2)\n",
        "\n",
        "print (classification_report(y_test, predSVM))\n",
        "\n",
        "# Plot non-normalized confusion matrix\n",
        "plt.figure()\n",
        "plot_confusion_matrix(cnf_matrix, classes=['1','2','3','4','5'],normalize= False,  title='Confusion matrix')"
      ]
    },
    {
      "cell_type": "code",
      "execution_count": null,
      "metadata": {
        "id": "b8G4dEE8ppIo"
      },
      "outputs": [],
      "source": [
        "clf2 = svm.SVC(kernel='linear')\n",
        "clf2.fit(X_train_tfidf, y_train) \n",
        "predSVM2 = clf2.predict(X_test_tfidf)"
      ]
    },
    {
      "cell_type": "code",
      "execution_count": null,
      "metadata": {
        "id": "WR0_SMRSpztn"
      },
      "outputs": [],
      "source": [
        "# Compute confusion matrix\n",
        "cnf_matrix = confusion_matrix(y_test, predSVM2, labels=[1,2,3,4,5])\n",
        "np.set_printoptions(precision=2)\n",
        "\n",
        "print (classification_report(y_test, predSVM2))\n",
        "\n",
        "# Plot non-normalized confusion matrix\n",
        "plt.figure()\n",
        "plot_confusion_matrix(cnf_matrix, classes=['1','2','3','4','5'],normalize= False,  title='Confusion matrix')"
      ]
    },
    {
      "cell_type": "code",
      "execution_count": null,
      "metadata": {
        "colab": {
          "background_save": true
        },
        "id": "1yTpoeogp6D3"
      },
      "outputs": [],
      "source": [
        "from sklearn.neural_network import MLPClassifier\n",
        "mlp = MLPClassifier(hidden_layer_sizes=(64, ), activation='relu',max_iter=1000, epsilon=1e-08)\n",
        "mlp.fit(X_train_tfidf, y_train)\n",
        "predANN = mlp.predict(X_test_tfidf)"
      ]
    },
    {
      "cell_type": "code",
      "execution_count": null,
      "metadata": {
        "colab": {
          "background_save": true
        },
        "id": "o94A1rHNrHsi",
        "outputId": "750861be-3916-489b-c6a1-952ea6f6461f"
      },
      "outputs": [
        {
          "name": "stdout",
          "output_type": "stream",
          "text": [
            "              precision    recall  f1-score   support\n",
            "\n",
            "           1       0.44      0.43      0.44       166\n",
            "           2       0.17      0.13      0.14       102\n",
            "           3       0.21      0.17      0.19       138\n",
            "           4       0.26      0.21      0.23       277\n",
            "           5       0.76      0.83      0.80      1317\n",
            "\n",
            "    accuracy                           0.63      2000\n",
            "   macro avg       0.37      0.35      0.36      2000\n",
            "weighted avg       0.60      0.63      0.61      2000\n",
            "\n",
            "Confusion matrix, without normalization\n",
            "[[  72   24   12    9   49]\n",
            " [  28   13   13   10   38]\n",
            " [  13    6   23   24   72]\n",
            " [  15   10   17   58  177]\n",
            " [  36   25   44  120 1092]]\n"
          ]
        },
        {
          "data": {
            "image/png": "[encoded data removed]",
            "text/plain": [
              "<Figure size 432x288 with 2 Axes>"
            ]
          },
          "metadata": {},
          "output_type": "display_data"
        }
      ],
      "source": [
        "# Compute confusion matrix\n",
        "cnf_matrix = confusion_matrix(y_test, predANN, labels=[1,2,3,4,5])\n",
        "np.set_printoptions(precision=2)\n",
        "\n",
        "print (classification_report(y_test, predANN))\n",
        "\n",
        "# Plot non-normalized confusion matrix\n",
        "plt.figure()\n",
        "plot_confusion_matrix(cnf_matrix, classes=['1','2','3','4','5'],normalize= False,  title='Confusion matrix')"
      ]
    },
    {
      "cell_type": "code",
      "execution_count": null,
      "metadata": {
        "colab": {
          "background_save": true
        },
        "id": "D7Q6sj0CxSD1",
        "outputId": "a556ffe3-025b-46ad-87e1-d218ae33ddcb"
      },
      "outputs": [
        {
          "data": {
            "text/plain": [
              "RandomForestClassifier()"
            ]
          },
          "execution_count": null,
          "metadata": {},
          "output_type": "execute_result"
        }
      ],
      "source": [
        "from sklearn.ensemble import RandomForestClassifier\n",
        "rf = RandomForestClassifier()\n",
        "rf.fit(X_train_tfidf, y_train)"
      ]
    },
    {
      "cell_type": "code",
      "execution_count": null,
      "metadata": {
        "colab": {
          "background_save": true
        },
        "id": "gUPMWJg_yFIl"
      },
      "outputs": [],
      "source": [
        "predrf = rf.predict(X_test_tfidf)"
      ]
    },
    {
      "cell_type": "code",
      "execution_count": null,
      "metadata": {
        "colab": {
          "background_save": true
        },
        "id": "ZGD3hy0dyJgk",
        "outputId": "d2cfa91a-d526-4892-83f6-0cf46cf6b1af"
      },
      "outputs": [
        {
          "name": "stdout",
          "output_type": "stream",
          "text": [
            "              precision    recall  f1-score   support\n",
            "\n",
            "           1       0.57      0.43      0.49       166\n",
            "           2       0.17      0.06      0.09       102\n",
            "           3       0.35      0.16      0.22       138\n",
            "           4       0.33      0.14      0.19       277\n",
            "           5       0.74      0.93      0.83      1317\n",
            "\n",
            "    accuracy                           0.68      2000\n",
            "   macro avg       0.43      0.34      0.36      2000\n",
            "weighted avg       0.61      0.68      0.63      2000\n",
            "\n",
            "Confusion matrix, without normalization\n",
            "[[  72   11    7    5   71]\n",
            " [  22    6    8   13   53]\n",
            " [  12    6   22   11   87]\n",
            " [   8    1   11   38  219]\n",
            " [  13   12   15   49 1228]]\n"
          ]
        },
        {
          "data": {
            "image/png": "[encoded data removed]",
            "text/plain": [
              "<Figure size 432x288 with 2 Axes>"
            ]
          },
          "metadata": {},
          "output_type": "display_data"
        }
      ],
      "source": [
        "# Compute confusion matrix\n",
        "cnf_matrix = confusion_matrix(y_test, predrf)\n",
        "np.set_printoptions(precision=2)\n",
        "\n",
        "print (classification_report(y_test, predrf))\n",
        "\n",
        "# Plot non-normalized confusion matrix\n",
        "plt.figure()\n",
        "plot_confusion_matrix(cnf_matrix, classes=['Negative','Positive'],normalize= False,  title='Confusion matrix')"
      ]
    }
  ],
  "metadata": {
    "colab": {
      "collapsed_sections": [],
      "name": "FP_Kelompok2.ipynb",
      "provenance": []
    },
    "kernelspec": {
      "display_name": "Python 3",
      "name": "python3"
    },
    "language_info": {
      "name": "python"
    }
  },
  "nbformat": 4,
  "nbformat_minor": 0
}